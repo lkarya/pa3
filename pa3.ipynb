{
 "cells": [
  {
   "cell_type": "code",
   "execution_count": 2,
   "id": "5f23fe34",
   "metadata": {},
   "outputs": [
    {
     "name": "stdout",
     "output_type": "stream",
     "text": [
      "Positive\n",
      "Equal to zero\n",
      "Negative\n"
     ]
    }
   ],
   "source": [
    "# Write a Python Program to Check if a Number is Positive, Negative or Zero?\n",
    "\n",
    "def check(n):\n",
    "      \n",
    "    # if the number is positive\n",
    "    if n > 0:\n",
    "        print(\"Positive\")\n",
    "          \n",
    "    # if the number is negative\n",
    "    elif n < 0:\n",
    "        print(\"Negative\")\n",
    "          \n",
    "    # if the number is equal to\n",
    "    # zero\n",
    "    else:\n",
    "        print(\"Equal to zero\")\n",
    "          \n",
    "# Driver Code\n",
    "check(5)\n",
    "check(0)\n",
    "check(-5)"
   ]
  },
  {
   "cell_type": "code",
   "execution_count": 3,
   "id": "660036b2",
   "metadata": {},
   "outputs": [
    {
     "name": "stdout",
     "output_type": "stream",
     "text": [
      "Object `Even` not found.\n",
      "3 num is odd\n"
     ]
    }
   ],
   "source": [
    "Write a Python Program to Check if a Number is Odd or Even?\n",
    "\n",
    "# defining the function having the one parameter as input\n",
    "def evenOdd(n):\n",
    "     \n",
    "    #if remainder is 0 then num is even\n",
    "    if(n==0):\n",
    "        return True\n",
    "       \n",
    "    #if remainder is 1 then num is odd\n",
    "    elif(n==1):\n",
    "        return False\n",
    "    else:\n",
    "        return evenOdd(n-2)\n",
    "       \n",
    "# Input by geeks\n",
    "num=3\n",
    "if(evenOdd(num)):\n",
    "    print(num,\"num is even\")\n",
    "else:\n",
    "    print(num,\"num is odd\")\n",
    "    "
   ]
  },
  {
   "cell_type": "code",
   "execution_count": 4,
   "id": "2343e223",
   "metadata": {},
   "outputs": [
    {
     "name": "stdout",
     "output_type": "stream",
     "text": [
      "Leap Year\n"
     ]
    }
   ],
   "source": [
    "# Write a Python Program to Check Leap Year?\n",
    "\n",
    "# Python program to check leap year or not\n",
    "def checkYear(year):\n",
    "    if (year % 4) == 0:\n",
    "        if (year % 100) == 0:\n",
    "            if (year % 400) == 0:\n",
    "                return True\n",
    "            else:\n",
    "                return False\n",
    "        else:\n",
    "             return True\n",
    "    else:\n",
    "        return False\n",
    " \n",
    "# Driver Code\n",
    "year = 2000\n",
    "if(checkYear(year)):\n",
    "    print(\"Leap Year\")\n",
    "else:\n",
    "    print(\"Not a Leap Year\")"
   ]
  },
  {
   "cell_type": "code",
   "execution_count": null,
   "id": "af448445",
   "metadata": {},
   "outputs": [],
   "source": []
  }
 ],
 "metadata": {
  "kernelspec": {
   "display_name": "Python 3 (ipykernel)",
   "language": "python",
   "name": "python3"
  },
  "language_info": {
   "codemirror_mode": {
    "name": "ipython",
    "version": 3
   },
   "file_extension": ".py",
   "mimetype": "text/x-python",
   "name": "python",
   "nbconvert_exporter": "python",
   "pygments_lexer": "ipython3",
   "version": "3.9.7"
  }
 },
 "nbformat": 4,
 "nbformat_minor": 5
}
